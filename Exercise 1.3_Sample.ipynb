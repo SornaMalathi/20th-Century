{
 "cells": [
  {
   "cell_type": "markdown",
   "id": "1a8deb9b-53c3-4f41-af58-cc8ee75e7f5d",
   "metadata": {},
   "source": [
    "## New Notebook in 20th-Century Environment"
   ]
  },
  {
   "cell_type": "code",
   "execution_count": 1,
   "id": "2e745f71-bb14-4c28-a42b-204b868edc65",
   "metadata": {},
   "outputs": [],
   "source": [
    "import pandas as pd\n",
    "import numpy as np"
   ]
  },
  {
   "cell_type": "code",
   "execution_count": 10,
   "id": "c7ab945f-8537-4b7e-96c0-2cd1ddb1d89a",
   "metadata": {},
   "outputs": [],
   "source": [
    "# Create a sample dataframe for this exercise\n",
    "\n",
    "data = pd.DataFrame({\"Country\": ['AAA', 'BBBBB', 'CCC','DDD'],\n",
    "                     \"political_events\": [10,20,15,6],\n",
    "                     \"non_political_events\": [3,4,7,10]})"
   ]
  },
  {
   "cell_type": "code",
   "execution_count": 11,
   "id": "8bd01c2f-6631-4a3b-9bb1-f07684c8b947",
   "metadata": {},
   "outputs": [
    {
     "data": {
      "text/html": [
       "<div>\n",
       "<style scoped>\n",
       "    .dataframe tbody tr th:only-of-type {\n",
       "        vertical-align: middle;\n",
       "    }\n",
       "\n",
       "    .dataframe tbody tr th {\n",
       "        vertical-align: top;\n",
       "    }\n",
       "\n",
       "    .dataframe thead th {\n",
       "        text-align: right;\n",
       "    }\n",
       "</style>\n",
       "<table border=\"1\" class=\"dataframe\">\n",
       "  <thead>\n",
       "    <tr style=\"text-align: right;\">\n",
       "      <th></th>\n",
       "      <th>Country</th>\n",
       "      <th>political_events</th>\n",
       "      <th>non_political_events</th>\n",
       "    </tr>\n",
       "  </thead>\n",
       "  <tbody>\n",
       "    <tr>\n",
       "      <th>0</th>\n",
       "      <td>AAA</td>\n",
       "      <td>10</td>\n",
       "      <td>3</td>\n",
       "    </tr>\n",
       "    <tr>\n",
       "      <th>1</th>\n",
       "      <td>BBBBB</td>\n",
       "      <td>20</td>\n",
       "      <td>4</td>\n",
       "    </tr>\n",
       "    <tr>\n",
       "      <th>2</th>\n",
       "      <td>CCC</td>\n",
       "      <td>15</td>\n",
       "      <td>7</td>\n",
       "    </tr>\n",
       "    <tr>\n",
       "      <th>3</th>\n",
       "      <td>DDD</td>\n",
       "      <td>6</td>\n",
       "      <td>10</td>\n",
       "    </tr>\n",
       "  </tbody>\n",
       "</table>\n",
       "</div>"
      ],
      "text/plain": [
       "  Country  political_events  non_political_events\n",
       "0     AAA                10                     3\n",
       "1   BBBBB                20                     4\n",
       "2     CCC                15                     7\n",
       "3     DDD                 6                    10"
      ]
     },
     "execution_count": 11,
     "metadata": {},
     "output_type": "execute_result"
    }
   ],
   "source": [
    "data"
   ]
  },
  {
   "cell_type": "code",
   "execution_count": 13,
   "id": "6a1c2841-4a74-4f24-a5aa-8c2810988c60",
   "metadata": {},
   "outputs": [],
   "source": [
    "data['Total_events'] = data.apply(lambda row: row['political_events'] + row['non_political_events'], axis=1)"
   ]
  },
  {
   "cell_type": "code",
   "execution_count": 14,
   "id": "65186a40-54e8-4ffa-b56b-1137aa8d3f7d",
   "metadata": {},
   "outputs": [
    {
     "data": {
      "text/html": [
       "<div>\n",
       "<style scoped>\n",
       "    .dataframe tbody tr th:only-of-type {\n",
       "        vertical-align: middle;\n",
       "    }\n",
       "\n",
       "    .dataframe tbody tr th {\n",
       "        vertical-align: top;\n",
       "    }\n",
       "\n",
       "    .dataframe thead th {\n",
       "        text-align: right;\n",
       "    }\n",
       "</style>\n",
       "<table border=\"1\" class=\"dataframe\">\n",
       "  <thead>\n",
       "    <tr style=\"text-align: right;\">\n",
       "      <th></th>\n",
       "      <th>Country</th>\n",
       "      <th>political_events</th>\n",
       "      <th>non_political_events</th>\n",
       "      <th>Total_events</th>\n",
       "    </tr>\n",
       "  </thead>\n",
       "  <tbody>\n",
       "    <tr>\n",
       "      <th>0</th>\n",
       "      <td>AAA</td>\n",
       "      <td>10</td>\n",
       "      <td>3</td>\n",
       "      <td>13</td>\n",
       "    </tr>\n",
       "    <tr>\n",
       "      <th>1</th>\n",
       "      <td>BBBBB</td>\n",
       "      <td>20</td>\n",
       "      <td>4</td>\n",
       "      <td>24</td>\n",
       "    </tr>\n",
       "    <tr>\n",
       "      <th>2</th>\n",
       "      <td>CCC</td>\n",
       "      <td>15</td>\n",
       "      <td>7</td>\n",
       "      <td>22</td>\n",
       "    </tr>\n",
       "    <tr>\n",
       "      <th>3</th>\n",
       "      <td>DDD</td>\n",
       "      <td>6</td>\n",
       "      <td>10</td>\n",
       "      <td>16</td>\n",
       "    </tr>\n",
       "  </tbody>\n",
       "</table>\n",
       "</div>"
      ],
      "text/plain": [
       "  Country  political_events  non_political_events  Total_events\n",
       "0     AAA                10                     3            13\n",
       "1   BBBBB                20                     4            24\n",
       "2     CCC                15                     7            22\n",
       "3     DDD                 6                    10            16"
      ]
     },
     "execution_count": 14,
     "metadata": {},
     "output_type": "execute_result"
    }
   ],
   "source": [
    "data"
   ]
  },
  {
   "cell_type": "code",
   "execution_count": 15,
   "id": "a2ea82d8-31e9-49ff-8415-c75d9b677977",
   "metadata": {},
   "outputs": [],
   "source": [
    "# Create a label to mark how freqently a country was involved in notable events\n",
    "\n",
    "data['Frequency_label' ] = data['Total_events'].apply(lambda x: 'Often' if x > 15 else 'less frequent')"
   ]
  },
  {
   "cell_type": "code",
   "execution_count": 16,
   "id": "261917b8-1fe3-49af-98a7-3fc0b54d9083",
   "metadata": {},
   "outputs": [
    {
     "data": {
      "text/html": [
       "<div>\n",
       "<style scoped>\n",
       "    .dataframe tbody tr th:only-of-type {\n",
       "        vertical-align: middle;\n",
       "    }\n",
       "\n",
       "    .dataframe tbody tr th {\n",
       "        vertical-align: top;\n",
       "    }\n",
       "\n",
       "    .dataframe thead th {\n",
       "        text-align: right;\n",
       "    }\n",
       "</style>\n",
       "<table border=\"1\" class=\"dataframe\">\n",
       "  <thead>\n",
       "    <tr style=\"text-align: right;\">\n",
       "      <th></th>\n",
       "      <th>Country</th>\n",
       "      <th>political_events</th>\n",
       "      <th>non_political_events</th>\n",
       "      <th>Total_events</th>\n",
       "      <th>Frequency_label</th>\n",
       "    </tr>\n",
       "  </thead>\n",
       "  <tbody>\n",
       "    <tr>\n",
       "      <th>0</th>\n",
       "      <td>AAA</td>\n",
       "      <td>10</td>\n",
       "      <td>3</td>\n",
       "      <td>13</td>\n",
       "      <td>less frequent</td>\n",
       "    </tr>\n",
       "    <tr>\n",
       "      <th>1</th>\n",
       "      <td>BBBBB</td>\n",
       "      <td>20</td>\n",
       "      <td>4</td>\n",
       "      <td>24</td>\n",
       "      <td>Often</td>\n",
       "    </tr>\n",
       "    <tr>\n",
       "      <th>2</th>\n",
       "      <td>CCC</td>\n",
       "      <td>15</td>\n",
       "      <td>7</td>\n",
       "      <td>22</td>\n",
       "      <td>Often</td>\n",
       "    </tr>\n",
       "    <tr>\n",
       "      <th>3</th>\n",
       "      <td>DDD</td>\n",
       "      <td>6</td>\n",
       "      <td>10</td>\n",
       "      <td>16</td>\n",
       "      <td>Often</td>\n",
       "    </tr>\n",
       "  </tbody>\n",
       "</table>\n",
       "</div>"
      ],
      "text/plain": [
       "  Country  political_events  non_political_events  Total_events  \\\n",
       "0     AAA                10                     3            13   \n",
       "1   BBBBB                20                     4            24   \n",
       "2     CCC                15                     7            22   \n",
       "3     DDD                 6                    10            16   \n",
       "\n",
       "  Frequency_label  \n",
       "0   less frequent  \n",
       "1           Often  \n",
       "2           Often  \n",
       "3           Often  "
      ]
     },
     "execution_count": 16,
     "metadata": {},
     "output_type": "execute_result"
    }
   ],
   "source": [
    "data"
   ]
  },
  {
   "cell_type": "code",
   "execution_count": null,
   "id": "892fd29f-300f-48e1-b331-9d379c0036a5",
   "metadata": {},
   "outputs": [],
   "source": []
  }
 ],
 "metadata": {
  "kernelspec": {
   "display_name": "Python [conda env:anaconda3-20th-century]",
   "language": "python",
   "name": "conda-env-anaconda3-20th-century-py"
  },
  "language_info": {
   "codemirror_mode": {
    "name": "ipython",
    "version": 3
   },
   "file_extension": ".py",
   "mimetype": "text/x-python",
   "name": "python",
   "nbconvert_exporter": "python",
   "pygments_lexer": "ipython3",
   "version": "3.13.9"
  }
 },
 "nbformat": 4,
 "nbformat_minor": 5
}

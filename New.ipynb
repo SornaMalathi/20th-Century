{
 "cells": [
  {
   "cell_type": "markdown",
   "id": "1031c3b7-8a08-4dab-9ccc-9ff6ef5691ad",
   "metadata": {},
   "source": [
    "# New Notebook for 20th-Century Repo"
   ]
  }
 ],
 "metadata": {
  "kernelspec": {
   "display_name": "Python 3 (ipykernel)",
   "language": "python",
   "name": "python3"
  },
  "language_info": {
   "codemirror_mode": {
    "name": "ipython",
    "version": 3
   },
   "file_extension": ".py",
   "mimetype": "text/x-python",
   "name": "python",
   "nbconvert_exporter": "python",
   "pygments_lexer": "ipython3",
   "version": "3.13.5"
  }
 },
 "nbformat": 4,
 "nbformat_minor": 5
}

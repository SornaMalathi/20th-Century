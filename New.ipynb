{
 "cells": [
  {
   "cell_type": "markdown",
   "id": "1031c3b7-8a08-4dab-9ccc-9ff6ef5691ad",
   "metadata": {},
   "source": [
    "# New Notebook for 20th-Century Repo"
   ]
  },
  {
   "cell_type": "code",
   "execution_count": 1,
   "id": "e4b2777e-e1ca-4c52-be63-0374c0a2385b",
   "metadata": {},
   "outputs": [],
   "source": [
    "x =100"
   ]
  },
  {
   "cell_type": "code",
   "execution_count": 2,
   "id": "5f8787bd-d058-4d52-9c81-1d0f1fb40be7",
   "metadata": {},
   "outputs": [],
   "source": [
    "y = 50"
   ]
  },
  {
   "cell_type": "code",
   "execution_count": 3,
   "id": "58b4e777-7a09-41fb-b4ac-388675975e13",
   "metadata": {},
   "outputs": [],
   "source": [
    "Z = x+y"
   ]
  },
  {
   "cell_type": "code",
   "execution_count": 5,
   "id": "736d8480-9591-429b-9a56-a916ec86f419",
   "metadata": {},
   "outputs": [
    {
     "name": "stdout",
     "output_type": "stream",
     "text": [
      "150\n"
     ]
    }
   ],
   "source": [
    "print (Z)"
   ]
  },
  {
   "cell_type": "code",
   "execution_count": 7,
   "id": "0a0be486-9a7d-4bbf-8a84-0b120a032479",
   "metadata": {},
   "outputs": [],
   "source": [
    "x = 'Thank'"
   ]
  },
  {
   "cell_type": "code",
   "execution_count": 10,
   "id": "427100b2-4b45-4f60-96ed-ca340341c32b",
   "metadata": {},
   "outputs": [],
   "source": [
    "y = ' You'"
   ]
  },
  {
   "cell_type": "code",
   "execution_count": 11,
   "id": "fcb03a5c-302d-42da-ad51-f60102d6f00b",
   "metadata": {},
   "outputs": [
    {
     "name": "stdout",
     "output_type": "stream",
     "text": [
      "Thank You\n"
     ]
    }
   ],
   "source": [
    "print (x + y)"
   ]
  },
  {
   "cell_type": "code",
   "execution_count": null,
   "id": "aae1a41b-db32-441e-8619-514f2e808a02",
   "metadata": {},
   "outputs": [],
   "source": []
  }
 ],
 "metadata": {
  "kernelspec": {
   "display_name": "Python 3 (ipykernel)",
   "language": "python",
   "name": "python3"
  },
  "language_info": {
   "codemirror_mode": {
    "name": "ipython",
    "version": 3
   },
   "file_extension": ".py",
   "mimetype": "text/x-python",
   "name": "python",
   "nbconvert_exporter": "python",
   "pygments_lexer": "ipython3",
   "version": "3.13.5"
  }
 },
 "nbformat": 4,
 "nbformat_minor": 5
}

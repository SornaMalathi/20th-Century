{
 "cells": [
  {
   "cell_type": "code",
   "execution_count": 3,
   "id": "1958bf92-4f6a-4c2d-9e41-4804445ea979",
   "metadata": {},
   "outputs": [
    {
     "ename": "ModuleNotFoundError",
     "evalue": "No module named 'selenium'",
     "output_type": "error",
     "traceback": [
      "\u001b[31m---------------------------------------------------------------------------\u001b[39m",
      "\u001b[31mModuleNotFoundError\u001b[39m                       Traceback (most recent call last)",
      "\u001b[36mCell\u001b[39m\u001b[36m \u001b[39m\u001b[32mIn[3]\u001b[39m\u001b[32m, line 6\u001b[39m\n\u001b[32m      4\u001b[39m \u001b[38;5;28;01mimport\u001b[39;00m\u001b[38;5;250m \u001b[39m\u001b[34;01mtime\u001b[39;00m\n\u001b[32m      5\u001b[39m \u001b[38;5;28;01mfrom\u001b[39;00m\u001b[38;5;250m \u001b[39m\u001b[34;01mwebdriver_manager\u001b[39;00m\u001b[34;01m.\u001b[39;00m\u001b[34;01mchrome\u001b[39;00m\u001b[38;5;250m \u001b[39m\u001b[38;5;28;01mimport\u001b[39;00m ChromeDriverManager\n\u001b[32m----> \u001b[39m\u001b[32m6\u001b[39m \u001b[38;5;28;01mfrom\u001b[39;00m\u001b[38;5;250m \u001b[39m\u001b[34;01mselenium\u001b[39;00m\u001b[38;5;250m \u001b[39m\u001b[38;5;28;01mimport\u001b[39;00m webdriver\n\u001b[32m      7\u001b[39m \u001b[38;5;28;01mfrom\u001b[39;00m\u001b[38;5;250m \u001b[39m\u001b[34;01mselenium\u001b[39;00m\u001b[34;01m.\u001b[39;00m\u001b[34;01mwebdriver\u001b[39;00m\u001b[34;01m.\u001b[39;00m\u001b[34;01mchrome\u001b[39;00m\u001b[34;01m.\u001b[39;00m\u001b[34;01mservice\u001b[39;00m\u001b[38;5;250m \u001b[39m\u001b[38;5;28;01mimport\u001b[39;00m Service\n\u001b[32m      8\u001b[39m service  =  Service(executable_path=ChromeDriverManager().install())\n",
      "\u001b[31mModuleNotFoundError\u001b[39m: No module named 'selenium'"
     ]
    }
   ],
   "source": [
    "# Import libraries\n",
    "\n",
    "import pandas as pd\n",
    "import time\n",
    "from webdriver_manager.chrome import ChromeDriverManager\n",
    "from selenium import webdriver\n",
    "from selenium.webdriver.chrome.service import Service\n",
    "service  =  Service(executable_path=ChromeDriverManager().install())\n",
    "driver = webdriver.Chrome(service=Service(ChromeDriverManager().install()))\n",
    "from selenium.webdriver.common.by import By\n",
    "from selenium.webdriver.chrome.options import Options\n",
    "import matplotlib.pyplot as plt\n",
    "import os\n",
    "import logging\n",
    "import requests\n",
    "import bs4"
   ]
  },
  {
   "cell_type": "code",
   "execution_count": 2,
   "id": "7a092eb3-8300-4242-ab44-77dcb851e496",
   "metadata": {},
   "outputs": [
    {
     "name": "stdout",
     "output_type": "stream",
     "text": [
      "Collecting webdriver_manager\n",
      "  Using cached webdriver_manager-4.0.2-py2.py3-none-any.whl.metadata (12 kB)\n",
      "Collecting requests (from webdriver_manager)\n",
      "  Using cached requests-2.32.5-py3-none-any.whl.metadata (4.9 kB)\n",
      "Collecting python-dotenv (from webdriver_manager)\n",
      "  Using cached python_dotenv-1.2.1-py3-none-any.whl.metadata (25 kB)\n",
      "Requirement already satisfied: packaging in c:\\users\\sorna\\anaconda3\\envs\\20th-century\\lib\\site-packages (from webdriver_manager) (25.0)\n",
      "Collecting charset_normalizer<4,>=2 (from requests->webdriver_manager)\n",
      "  Using cached charset_normalizer-3.4.4-cp313-cp313-win_amd64.whl.metadata (38 kB)\n",
      "Collecting idna<4,>=2.5 (from requests->webdriver_manager)\n",
      "  Using cached idna-3.11-py3-none-any.whl.metadata (8.4 kB)\n",
      "Collecting urllib3<3,>=1.21.1 (from requests->webdriver_manager)\n",
      "  Downloading urllib3-2.5.0-py3-none-any.whl.metadata (6.5 kB)\n",
      "Collecting certifi>=2017.4.17 (from requests->webdriver_manager)\n",
      "  Using cached certifi-2025.10.5-py3-none-any.whl.metadata (2.5 kB)\n",
      "Using cached webdriver_manager-4.0.2-py2.py3-none-any.whl (27 kB)\n",
      "Using cached python_dotenv-1.2.1-py3-none-any.whl (21 kB)\n",
      "Using cached requests-2.32.5-py3-none-any.whl (64 kB)\n",
      "Using cached charset_normalizer-3.4.4-cp313-cp313-win_amd64.whl (107 kB)\n",
      "Using cached idna-3.11-py3-none-any.whl (71 kB)\n",
      "Downloading urllib3-2.5.0-py3-none-any.whl (129 kB)\n",
      "Using cached certifi-2025.10.5-py3-none-any.whl (163 kB)\n",
      "Installing collected packages: urllib3, python-dotenv, idna, charset_normalizer, certifi, requests, webdriver_manager\n",
      "\n",
      "   ---------------------------------------- 0/7 [urllib3]\n",
      "   ---------------------------------------- 0/7 [urllib3]\n",
      "   ---------------------------------------- 0/7 [urllib3]\n",
      "   ---------------------------------------- 0/7 [urllib3]\n",
      "   ---------------------------------------- 0/7 [urllib3]\n",
      "   ---------------------------------------- 0/7 [urllib3]\n",
      "   ---------------------------------------- 0/7 [urllib3]\n",
      "   ----- ---------------------------------- 1/7 [python-dotenv]\n",
      "   ----- ---------------------------------- 1/7 [python-dotenv]\n",
      "   ----------- ---------------------------- 2/7 [idna]\n",
      "   ----------- ---------------------------- 2/7 [idna]\n",
      "   ----------- ---------------------------- 2/7 [idna]\n",
      "   ----------------- ---------------------- 3/7 [charset_normalizer]\n",
      "   ----------------- ---------------------- 3/7 [charset_normalizer]\n",
      "   ----------------- ---------------------- 3/7 [charset_normalizer]\n",
      "   ---------------------- ----------------- 4/7 [certifi]\n",
      "   ---------------------------- ----------- 5/7 [requests]\n",
      "   ---------------------------- ----------- 5/7 [requests]\n",
      "   ---------------------------- ----------- 5/7 [requests]\n",
      "   ---------------------------------- ----- 6/7 [webdriver_manager]\n",
      "   ---------------------------------- ----- 6/7 [webdriver_manager]\n",
      "   ---------------------------------- ----- 6/7 [webdriver_manager]\n",
      "   ---------------------------------- ----- 6/7 [webdriver_manager]\n",
      "   ---------------------------------- ----- 6/7 [webdriver_manager]\n",
      "   ---------------------------------------- 7/7 [webdriver_manager]\n",
      "\n",
      "Successfully installed certifi-2025.10.5 charset_normalizer-3.4.4 idna-3.11 python-dotenv-1.2.1 requests-2.32.5 urllib3-2.5.0 webdriver_manager-4.0.2\n"
     ]
    }
   ],
   "source": [
    "!pip install webdriver_manager"
   ]
  },
  {
   "cell_type": "code",
   "execution_count": null,
   "id": "db8997ff-a799-4cc8-ab74-dc29a1da4697",
   "metadata": {},
   "outputs": [],
   "source": []
  }
 ],
 "metadata": {
  "kernelspec": {
   "display_name": "Python [conda env:anaconda3-20th-century]",
   "language": "python",
   "name": "conda-env-anaconda3-20th-century-py"
  },
  "language_info": {
   "codemirror_mode": {
    "name": "ipython",
    "version": 3
   },
   "file_extension": ".py",
   "mimetype": "text/x-python",
   "name": "python",
   "nbconvert_exporter": "python",
   "pygments_lexer": "ipython3",
   "version": "3.13.9"
  }
 },
 "nbformat": 4,
 "nbformat_minor": 5
}
